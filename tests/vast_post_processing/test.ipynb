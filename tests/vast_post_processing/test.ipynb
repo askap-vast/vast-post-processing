{
 "cells": [
  {
   "cell_type": "code",
   "execution_count": 1,
   "metadata": {},
   "outputs": [],
   "source": [
    "from pathlib import Path\n",
    "\n",
    "from astropy.io import fits\n",
    "\n",
    "image = Path(\n",
    "    \"../test-data/TILES/STOKESI_IMAGES/epoch_38/image.i.VAST_0334-37.SB50801.cont.taylor.0.restored.conv.fits\"\n",
    ").resolve()"
   ]
  },
  {
   "cell_type": "code",
   "execution_count": 2,
   "metadata": {},
   "outputs": [],
   "source": [
    "hdu = fits.open(image)[0]"
   ]
  },
  {
   "cell_type": "code",
   "execution_count": 3,
   "metadata": {},
   "outputs": [
    {
     "name": "stdout",
     "output_type": "stream",
     "text": [
      "Produced with ASKAPsoft version 1.11.1-a91d596b3228\n",
      "Processed with ASKAP pipeline version 2.5.14\n",
      "Processed with ACES software revision 49273\n",
      "Processed with ASKAP pipelines on 2023-06-29T12:19:35\n",
      "Processed with CASA version 6.2\n",
      "Processed with BPTOOL version 2.4c\n",
      "Processed with CONVOLVED version table_fix\n",
      "HEY\n"
     ]
    }
   ],
   "source": [
    "hdu.header[\"HISTORY\"] = \"HEY\"\n",
    "history = hdu.header[\"HISTORY\"]\n",
    "print(history)"
   ]
  },
  {
   "cell_type": "code",
   "execution_count": 28,
   "metadata": {},
   "outputs": [],
   "source": [
    "from vast_post_processing.utils import misc"
   ]
  },
  {
   "cell_type": "code",
   "execution_count": 29,
   "metadata": {},
   "outputs": [
    {
     "data": {
      "text/plain": [
       "'30fb8f192f88e4b82bcb93033592c91c644303f3'"
      ]
     },
     "execution_count": 29,
     "metadata": {},
     "output_type": "execute_result"
    }
   ],
   "source": [
    "misc.get_git_hash()"
   ]
  },
  {
   "cell_type": "code",
   "execution_count": 12,
   "metadata": {},
   "outputs": [
    {
     "name": "stdout",
     "output_type": "stream",
     "text": [
      "<re.Match object; span=(0, 40), match='30fb8f192f88e4b82bcb93033592c91c644303f3'>\n",
      "None\n",
      "<re.Match object; span=(0, 40), match='30fb8f192f88e4b82bcb93033593784628374628'>\n"
     ]
    }
   ],
   "source": [
    "from re import fullmatch\n",
    "\n",
    "h = \"30fb8f192f88e4b82bcb93033592c91c644303f3\"\n",
    "j = \"30fb8f192f88e4b82bcb93033592c91c644303fz\"\n",
    "k = \"30fb8f192f88e4b82bcb93033593784628374628\"\n",
    "\n",
    "print(fullmatch(\"[0-9a-f]{40}\", h))\n",
    "print(fullmatch(\"[0-9a-f]{40}\", j))\n",
    "print(fullmatch(\"[0-9a-f]{40}\", k))"
   ]
  },
  {
   "cell_type": "code",
   "execution_count": 27,
   "metadata": {},
   "outputs": [
    {
     "name": "stdout",
     "output_type": "stream",
     "text": [
      "['31412312\\n', '\\n']\n"
     ]
    }
   ],
   "source": [
    "from pathlib import Path\n",
    "\n",
    "test = (\n",
    "    Path().absolute() / \"..\" / \"..\" / \"vast_post_processing\" / \"data\" / \".test\"\n",
    ").resolve()\n",
    "with open(test) as f:\n",
    "    lines = f.readlines()\n",
    "print(lines)"
   ]
  },
  {
   "cell_type": "code",
   "execution_count": null,
   "metadata": {},
   "outputs": [],
   "source": []
  }
 ],
 "metadata": {
  "kernelspec": {
   "display_name": "vast-post-processing-SFvl3Fo4-py3.9",
   "language": "python",
   "name": "python3"
  },
  "language_info": {
   "codemirror_mode": {
    "name": "ipython",
    "version": 3
   },
   "file_extension": ".py",
   "mimetype": "text/x-python",
   "name": "python",
   "nbconvert_exporter": "python",
   "pygments_lexer": "ipython3",
   "version": "3.9.17"
  },
  "orig_nbformat": 4
 },
 "nbformat": 4,
 "nbformat_minor": 2
}
