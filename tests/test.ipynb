{
 "cells": [
  {
   "cell_type": "code",
   "execution_count": 2,
   "metadata": {},
   "outputs": [],
   "source": [
    "import warnings\n",
    "from pathlib import Path\n",
    "from loguru import logger\n",
    "from datetime import datetime\n",
    "from typing import Optional, Union\n",
    "from itertools import chain\n",
    "\n",
    "from astropy.io import fits\n",
    "from astropy.io import votable\n",
    "from astropy.io.votable import tree\n",
    "\n",
    "import astropy.wcs as wcs\n",
    "from astropy.coordinates import SkyCoord\n",
    "\n",
    "import astropy.units as u\n",
    "from astropy.nddata.utils import Cutout2D\n",
    "from astropy.time import Time\n",
    "from mocpy import MOC, STMOC\n",
    "\n",
    "from vast_post_processing import crop, corrections\n",
    "\n",
    "DATA_PATH = (Path(\".\") / \"test-data\" / \"TILES\").resolve()\n",
    "IMAGE_PATH = (\n",
    "    DATA_PATH\n",
    "    / \"STOKESI_IMAGES\"\n",
    "    / \"epoch_38\"\n",
    "    / \"image.i.VAST_0334-37.SB50801.cont.taylor.0.restored.conv.fits\"\n",
    ")\n",
    "VOTABLE_PATH = (\n",
    "    DATA_PATH\n",
    "    / \"STOKESI_SELAVY\"\n",
    "    / \"epoch_38\"\n",
    "    / \"selavy-image.i.VAST_0334-37.SB50801.cont.taylor.0.restored.conv.components.xml\"\n",
    ")"
   ]
  },
  {
   "cell_type": "code",
   "execution_count": 3,
   "metadata": {},
   "outputs": [
    {
     "name": "stderr",
     "output_type": "stream",
     "text": [
      "2023-08-23 12:32:14.629 | DEBUG    | vast_post_processing.crop:get_field_centre:28 - Finding field centre\n",
      "/home/hansen/.cache/pypoetry/virtualenvs/vast-post-processing-SFvl3Fo4-py3.9/lib/python3.9/site-packages/astropy/wcs/wcs.py:819: FITSFixedWarning: 'obsfix' made the change 'Set OBSGEO-L to   116.658800 from OBSGEO-[XYZ].\n",
      "Set OBSGEO-B to   -26.704100 from OBSGEO-[XYZ].\n",
      "Set OBSGEO-H to      121.995 from OBSGEO-[XYZ]'.\n",
      "  warnings.warn(\n",
      "2023-08-23 12:32:14.649 | DEBUG    | vast_post_processing.crop:get_field_centre:35 - <SkyCoord (FK5: equinox=2000.0): (ra, dec) in deg\n",
      "    (53.61702083, -37.63907778)>\n",
      "2023-08-23 12:32:14.651 | DEBUG    | vast_post_processing.crop:crop_hdu:49 - Cropping HDU\n"
     ]
    },
    {
     "name": "stderr",
     "output_type": "stream",
     "text": [
      "2023-08-23 12:32:15.492 | DEBUG    | vast_post_processing.crop:crop_catalogue:72 - Cropping catalogue\n",
      "/home/hansen/.cache/pypoetry/virtualenvs/vast-post-processing-SFvl3Fo4-py3.9/lib/python3.9/site-packages/astropy/wcs/wcs.py:819: FITSFixedWarning: 'obsfix' made the change 'Set OBSGEO-L to   116.658800 from OBSGEO-[XYZ].\n",
      "Set OBSGEO-B to   -26.704100 from OBSGEO-[XYZ].\n",
      "Set OBSGEO-H to      121.995 from OBSGEO-[XYZ]'.\n",
      "  warnings.warn(\n"
     ]
    }
   ],
   "source": [
    "hdu = fits.open(IMAGE_PATH)[0]\n",
    "field_centre = crop.get_field_centre(hdu.header)\n",
    "cropped_hdu = crop.crop_hdu(hdu, field_centre)\n",
    "vot = votable.parse(VOTABLE_PATH)\n",
    "cropped_table = crop.crop_catalogue(vot, cropped_hdu)"
   ]
  },
  {
   "cell_type": "code",
   "execution_count": 4,
   "metadata": {},
   "outputs": [
    {
     "name": "stderr",
     "output_type": "stream",
     "text": [
      "2023-08-23 12:32:15.716 | DEBUG    | vast_post_processing.crop:wcs_to_moc:87 - Creating MOC\n",
      "/home/hansen/.cache/pypoetry/virtualenvs/vast-post-processing-SFvl3Fo4-py3.9/lib/python3.9/site-packages/astropy/wcs/wcs.py:819: FITSFixedWarning: 'obsfix' made the change 'Set OBSGEO-L to   116.658800 from OBSGEO-[XYZ].\n",
      "Set OBSGEO-B to   -26.704100 from OBSGEO-[XYZ].\n",
      "Set OBSGEO-H to      121.995 from OBSGEO-[XYZ]'.\n",
      "  warnings.warn(\n"
     ]
    },
    {
     "ename": "KeyError",
     "evalue": "\"Keyword 'DATE-BEG' not found.\"",
     "output_type": "error",
     "traceback": [
      "\u001b[0;31m---------------------------------------------------------------------------\u001b[0m",
      "\u001b[0;31mKeyError\u001b[0m                                  Traceback (most recent call last)",
      "\u001b[0;32m/tmp/ipykernel_3598/752092428.py\u001b[0m in \u001b[0;36m<cell line: 2>\u001b[0;34m()\u001b[0m\n\u001b[1;32m      1\u001b[0m \u001b[0mmoc\u001b[0m \u001b[0;34m=\u001b[0m \u001b[0mcrop\u001b[0m\u001b[0;34m.\u001b[0m\u001b[0mwcs_to_moc\u001b[0m\u001b[0;34m(\u001b[0m\u001b[0mcropped_hdu\u001b[0m\u001b[0;34m)\u001b[0m\u001b[0;34m\u001b[0m\u001b[0;34m\u001b[0m\u001b[0m\n\u001b[0;32m----> 2\u001b[0;31m \u001b[0mstmoc\u001b[0m \u001b[0;34m=\u001b[0m \u001b[0mcrop\u001b[0m\u001b[0;34m.\u001b[0m\u001b[0mmoc_to_stmoc\u001b[0m\u001b[0;34m(\u001b[0m\u001b[0mmoc\u001b[0m\u001b[0;34m,\u001b[0m \u001b[0mhdu\u001b[0m\u001b[0;34m)\u001b[0m\u001b[0;34m\u001b[0m\u001b[0;34m\u001b[0m\u001b[0m\n\u001b[0m\u001b[1;32m      3\u001b[0m \u001b[0mprint\u001b[0m\u001b[0;34m(\u001b[0m\u001b[0mstmoc\u001b[0m\u001b[0;34m)\u001b[0m\u001b[0;34m\u001b[0m\u001b[0;34m\u001b[0m\u001b[0m\n",
      "\u001b[0;32m~/projects/vast/projects/vast-post-processing/vast_post_processing/crop.py\u001b[0m in \u001b[0;36mmoc_to_stmoc\u001b[0;34m(moc, hdu)\u001b[0m\n\u001b[1;32m    100\u001b[0m \u001b[0;34m\u001b[0m\u001b[0m\n\u001b[1;32m    101\u001b[0m \u001b[0;32mdef\u001b[0m \u001b[0mmoc_to_stmoc\u001b[0m\u001b[0;34m(\u001b[0m\u001b[0mmoc\u001b[0m\u001b[0;34m:\u001b[0m \u001b[0mMOC\u001b[0m\u001b[0;34m,\u001b[0m \u001b[0mhdu\u001b[0m\u001b[0;34m:\u001b[0m \u001b[0mfits\u001b[0m\u001b[0;34m.\u001b[0m\u001b[0mPrimaryHDU\u001b[0m\u001b[0;34m)\u001b[0m\u001b[0;34m:\u001b[0m\u001b[0;34m\u001b[0m\u001b[0;34m\u001b[0m\u001b[0m\n\u001b[0;32m--> 102\u001b[0;31m     \u001b[0mstart\u001b[0m \u001b[0;34m=\u001b[0m \u001b[0mTime\u001b[0m\u001b[0;34m(\u001b[0m\u001b[0;34m[\u001b[0m\u001b[0mhdu\u001b[0m\u001b[0;34m.\u001b[0m\u001b[0mheader\u001b[0m\u001b[0;34m[\u001b[0m\u001b[0;34m\"DATE-BEG\"\u001b[0m\u001b[0;34m]\u001b[0m\u001b[0;34m]\u001b[0m\u001b[0;34m)\u001b[0m\u001b[0;34m\u001b[0m\u001b[0;34m\u001b[0m\u001b[0m\n\u001b[0m\u001b[1;32m    103\u001b[0m     \u001b[0mend\u001b[0m \u001b[0;34m=\u001b[0m \u001b[0mTime\u001b[0m\u001b[0;34m(\u001b[0m\u001b[0;34m[\u001b[0m\u001b[0mhdu\u001b[0m\u001b[0;34m.\u001b[0m\u001b[0mheader\u001b[0m\u001b[0;34m[\u001b[0m\u001b[0;34m\"DATE-END\"\u001b[0m\u001b[0;34m]\u001b[0m\u001b[0;34m]\u001b[0m\u001b[0;34m)\u001b[0m\u001b[0;34m\u001b[0m\u001b[0;34m\u001b[0m\u001b[0m\n\u001b[1;32m    104\u001b[0m \u001b[0;34m\u001b[0m\u001b[0m\n",
      "\u001b[0;32m~/.cache/pypoetry/virtualenvs/vast-post-processing-SFvl3Fo4-py3.9/lib/python3.9/site-packages/astropy/io/fits/header.py\u001b[0m in \u001b[0;36m__getitem__\u001b[0;34m(self, key)\u001b[0m\n\u001b[1;32m    168\u001b[0m             \u001b[0mkeyword\u001b[0m \u001b[0;34m=\u001b[0m \u001b[0mkey\u001b[0m\u001b[0;34m\u001b[0m\u001b[0;34m\u001b[0m\u001b[0m\n\u001b[1;32m    169\u001b[0m \u001b[0;34m\u001b[0m\u001b[0m\n\u001b[0;32m--> 170\u001b[0;31m         \u001b[0mcard\u001b[0m \u001b[0;34m=\u001b[0m \u001b[0mself\u001b[0m\u001b[0;34m.\u001b[0m\u001b[0m_cards\u001b[0m\u001b[0;34m[\u001b[0m\u001b[0mself\u001b[0m\u001b[0;34m.\u001b[0m\u001b[0m_cardindex\u001b[0m\u001b[0;34m(\u001b[0m\u001b[0mkey\u001b[0m\u001b[0;34m)\u001b[0m\u001b[0;34m]\u001b[0m\u001b[0;34m\u001b[0m\u001b[0;34m\u001b[0m\u001b[0m\n\u001b[0m\u001b[1;32m    171\u001b[0m \u001b[0;34m\u001b[0m\u001b[0m\n\u001b[1;32m    172\u001b[0m         \u001b[0;32mif\u001b[0m \u001b[0mcard\u001b[0m\u001b[0;34m.\u001b[0m\u001b[0mfield_specifier\u001b[0m \u001b[0;32mis\u001b[0m \u001b[0;32mnot\u001b[0m \u001b[0;32mNone\u001b[0m \u001b[0;32mand\u001b[0m \u001b[0mkeyword\u001b[0m \u001b[0;34m==\u001b[0m \u001b[0mcard\u001b[0m\u001b[0;34m.\u001b[0m\u001b[0mrawkeyword\u001b[0m\u001b[0;34m:\u001b[0m\u001b[0;34m\u001b[0m\u001b[0;34m\u001b[0m\u001b[0m\n",
      "\u001b[0;32m~/.cache/pypoetry/virtualenvs/vast-post-processing-SFvl3Fo4-py3.9/lib/python3.9/site-packages/astropy/io/fits/header.py\u001b[0m in \u001b[0;36m_cardindex\u001b[0;34m(self, key)\u001b[0m\n\u001b[1;32m   1769\u001b[0m \u001b[0;34m\u001b[0m\u001b[0m\n\u001b[1;32m   1770\u001b[0m         \u001b[0;32mif\u001b[0m \u001b[0;32mnot\u001b[0m \u001b[0mindices\u001b[0m\u001b[0;34m:\u001b[0m\u001b[0;34m\u001b[0m\u001b[0;34m\u001b[0m\u001b[0m\n\u001b[0;32m-> 1771\u001b[0;31m             \u001b[0;32mraise\u001b[0m \u001b[0mKeyError\u001b[0m\u001b[0;34m(\u001b[0m\u001b[0;34mf\"Keyword {keyword!r} not found.\"\u001b[0m\u001b[0;34m)\u001b[0m\u001b[0;34m\u001b[0m\u001b[0;34m\u001b[0m\u001b[0m\n\u001b[0m\u001b[1;32m   1772\u001b[0m \u001b[0;34m\u001b[0m\u001b[0m\n\u001b[1;32m   1773\u001b[0m         \u001b[0;32mtry\u001b[0m\u001b[0;34m:\u001b[0m\u001b[0;34m\u001b[0m\u001b[0;34m\u001b[0m\u001b[0m\n",
      "\u001b[0;31mKeyError\u001b[0m: \"Keyword 'DATE-BEG' not found.\""
     ]
    }
   ],
   "source": [
    "moc = crop.wcs_to_moc(cropped_hdu)\n",
    "stmoc = crop.moc_to_stmoc(moc, hdu)\n",
    "print(stmoc)"
   ]
  },
  {
   "cell_type": "code",
   "execution_count": 11,
   "metadata": {},
   "outputs": [
    {
     "name": "stderr",
     "output_type": "stream",
     "text": [
      "2023-08-23 12:47:32.147 | DEBUG    | vast_post_processing.catalogs:_read_catalog:273 - Reading /home/hansen/projects/vast/projects/vast-post-processing/tests/test-data/TILES/STOKESI_SELAVY/epoch_38/selavy-image.i.VAST_0334-37.SB50801.cont.taylor.0.restored.conv.components.xml as a Selavy VOTable catalog.\n",
      "2023-08-23 12:47:32.781 | INFO     | vast_post_processing.catalogs:_filter_sources:299 - Filtering 0 sources with fluxes <= 0\n",
      "2023-08-23 12:47:32.790 | INFO     | vast_post_processing.catalogs:_filter_sources:305 - Filtering 0 sources with fitted sizes <= 0.\n",
      "2023-08-23 12:47:32.800 | INFO     | vast_post_processing.catalogs:_filter_sources:314 - Filtering 28 sources that are not point sources.\n",
      "2023-08-23 12:47:32.818 | INFO     | vast_post_processing.catalogs:_filter_sources:323 - Filtering 4628 sources with SNR <= 20\n",
      "2023-08-23 12:47:32.838 | INFO     | vast_post_processing.catalogs:_filter_sources:329 - Filtering 2020 sources that have neighbors within 1 arcmin.\n",
      "2023-08-23 12:47:32.870 | INFO     | vast_post_processing.catalogs:_filter_sources:335 - Filtering 5422 sources in total.\n",
      "2023-08-23 12:47:32.872 | WARNING  | vast_post_processing.catalogs:__init__:249 - PSF is unknown for /home/hansen/projects/vast/projects/vast-post-processing/tests/test-data/TILES/STOKESI_SELAVY/epoch_38/selavy-image.i.VAST_0334-37.SB50801.cont.taylor.0.restored.conv.components.xml. Condon errors will be unavailable.\n",
      "2023-08-23 12:47:32.873 | DEBUG    | vast_post_processing.catalogs:_read_catalog:273 - Reading /home/hansen/projects/vast/projects/vast-post-processing/tests/test-data/TILES/STOKESI_SELAVY/epoch_38/selavy-image.i.VAST_0334-37.SB50801.cont.taylor.0.restored.conv.components.xml as a Selavy VOTable catalog.\n",
      "2023-08-23 12:47:33.473 | INFO     | vast_post_processing.catalogs:_filter_sources:299 - Filtering 0 sources with fluxes <= 0\n",
      "2023-08-23 12:47:33.479 | INFO     | vast_post_processing.catalogs:_filter_sources:305 - Filtering 0 sources with fitted sizes <= 0.\n",
      "2023-08-23 12:47:33.485 | INFO     | vast_post_processing.catalogs:_filter_sources:314 - Filtering 28 sources that are not point sources.\n",
      "2023-08-23 12:47:33.492 | INFO     | vast_post_processing.catalogs:_filter_sources:323 - Filtering 4628 sources with SNR <= 20\n",
      "2023-08-23 12:47:33.505 | INFO     | vast_post_processing.catalogs:_filter_sources:329 - Filtering 2020 sources that have neighbors within 1 arcmin.\n",
      "2023-08-23 12:47:33.523 | INFO     | vast_post_processing.catalogs:_filter_sources:335 - Filtering 5422 sources in total.\n",
      "2023-08-23 12:47:33.525 | WARNING  | vast_post_processing.catalogs:__init__:249 - PSF is unknown for /home/hansen/projects/vast/projects/vast-post-processing/tests/test-data/TILES/STOKESI_SELAVY/epoch_38/selavy-image.i.VAST_0334-37.SB50801.cont.taylor.0.restored.conv.components.xml. Condon errors will be unavailable.\n",
      "2023-08-23 12:47:33.526 | DEBUG    | vast_post_processing.crossmatch:crossmatch_qtables:75 - Using crossmatch radius: 10.0 arcsec.\n",
      "2023-08-23 12:47:33.610 | INFO     | vast_post_processing.crossmatch:crossmatch_qtables:100 - Num cross-matches: 1242. Num cross-matches to unique reference source: 1242 --  (100.0).\n"
     ]
    },
    {
     "name": "stdout",
     "output_type": "stream",
     "text": [
      "<class 'astropy.utils.masked.core.MaskedNDArray'> 0.\n",
      "<class 'astropy.utils.masked.core.MaskedNDArray'> 0.\n",
      "<class 'uncertainties.core.AffineScalarFunc'> 1.0+/-0\n",
      "<class 'uncertainties.core.AffineScalarFunc'> -0.0+/-0\n"
     ]
    },
    {
     "ename": "TypeError",
     "evalue": "isinstance() arg 2 must be a type or tuple of types",
     "output_type": "error",
     "traceback": [
      "\u001b[0;31m---------------------------------------------------------------------------\u001b[0m",
      "\u001b[0;31mTypeError\u001b[0m                                 Traceback (most recent call last)",
      "\u001b[0;32m/tmp/ipykernel_3598/2133284474.py\u001b[0m in \u001b[0;36m<cell line: 74>\u001b[0;34m()\u001b[0m\n\u001b[1;32m     72\u001b[0m \u001b[0mprint\u001b[0m\u001b[0;34m(\u001b[0m\u001b[0mtype\u001b[0m\u001b[0;34m(\u001b[0m\u001b[0mflux_corr_mult\u001b[0m\u001b[0;34m)\u001b[0m\u001b[0;34m,\u001b[0m \u001b[0mflux_corr_mult\u001b[0m\u001b[0;34m)\u001b[0m\u001b[0;34m\u001b[0m\u001b[0;34m\u001b[0m\u001b[0m\n\u001b[1;32m     73\u001b[0m \u001b[0mprint\u001b[0m\u001b[0;34m(\u001b[0m\u001b[0mtype\u001b[0m\u001b[0;34m(\u001b[0m\u001b[0mflux_corr_add\u001b[0m\u001b[0;34m)\u001b[0m\u001b[0;34m,\u001b[0m \u001b[0mflux_corr_add\u001b[0m\u001b[0;34m)\u001b[0m\u001b[0;34m\u001b[0m\u001b[0;34m\u001b[0m\u001b[0m\n\u001b[0;32m---> 74\u001b[0;31m \u001b[0mprint\u001b[0m\u001b[0;34m(\u001b[0m\u001b[0misinstance\u001b[0m\u001b[0;34m(\u001b[0m\u001b[0mflux_corr_mult\u001b[0m\u001b[0;34m,\u001b[0m\u001b[0mufloat\u001b[0m\u001b[0;34m)\u001b[0m\u001b[0;34m)\u001b[0m\u001b[0;34m\u001b[0m\u001b[0;34m\u001b[0m\u001b[0m\n\u001b[0m",
      "\u001b[0;31mTypeError\u001b[0m: isinstance() arg 2 must be a type or tuple of types"
     ]
    }
   ],
   "source": [
    "from uncertainties import ufloat\n",
    "from astropy.coordinates import Angle\n",
    "from vast_post_processing.catalogs import Catalog\n",
    "from vast_post_processing.crossmatch import (\n",
    "    crossmatch_qtables,\n",
    "    calculate_positional_offsets,\n",
    "    calculate_flux_offsets,\n",
    ")\n",
    "\n",
    "radius = Angle(\"10arcsec\")\n",
    "condon = False\n",
    "psf_reference = None\n",
    "psf = None\n",
    "fix_m = False\n",
    "fix_b = False\n",
    "positional_unit = u.Unit(\"arcsec\")\n",
    "flux_unit = u.Unit(\"mJy\")\n",
    "crossmatch_output = None\n",
    "csv_output = None\n",
    "\n",
    "reference_catalog_path = VOTABLE_PATH\n",
    "catalog_path = VOTABLE_PATH\n",
    "flux_unit /= u.beam  # add beam divisor as we currently only work with peak fluxes\n",
    "\n",
    "# Create Catalog objects\n",
    "reference_catalog = Catalog(\n",
    "    reference_catalog_path,\n",
    "    psf=psf_reference,\n",
    "    condon=condon,\n",
    "    input_format=\"selavy\",\n",
    ")\n",
    "catalog = Catalog(\n",
    "    catalog_path,\n",
    "    psf=psf,\n",
    "    condon=condon,\n",
    "    input_format=\"selavy\",\n",
    ")\n",
    "\n",
    "# Perform the crossmatch\n",
    "xmatch_qt = crossmatch_qtables(catalog, reference_catalog, radius=radius)\n",
    "\n",
    "# Select xmatches with non-zero flux errors and no siblings\n",
    "mask = xmatch_qt[\"flux_peak_err\"] > 0\n",
    "mask &= xmatch_qt[\"flux_peak_err_reference\"] > 0\n",
    "mask &= xmatch_qt[\"has_siblings\"] == 0\n",
    "mask &= xmatch_qt[\"has_siblings_reference\"] == 0\n",
    "data = xmatch_qt[mask]\n",
    "\n",
    "# Write the crossmatch data to csv\n",
    "if crossmatch_output is not None:\n",
    "    data.write(crossmatch_output, overwrite=True)\n",
    "\n",
    "# Calculate positional offsets\n",
    "dra_median, ddec_median, dra_madfm, ddec_madfm = calculate_positional_offsets(data)\n",
    "dra_median_value = dra_median.to(positional_unit).value\n",
    "dra_madfm_value = dra_madfm.to(positional_unit).value\n",
    "ddec_median_value = ddec_median.to(positional_unit).value\n",
    "ddec_madfm_value = ddec_madfm.to(positional_unit).value\n",
    "\n",
    "# Calculate flux ratio\n",
    "gradient, offset, gradient_err, offset_err = calculate_flux_offsets(\n",
    "    data, fix_m=fix_m, fix_b=fix_b\n",
    ")\n",
    "ugradient = ufloat(gradient, gradient_err)\n",
    "uoffset = ufloat(offset.to(flux_unit).value, offset_err.to(flux_unit).value)\n",
    "\n",
    "flux_corr_mult = 1 / ugradient\n",
    "flux_corr_add = -1 * uoffset\n",
    "\n",
    "print(type(dra_median_value), dra_median_value)\n",
    "print(type(ddec_median_value), ddec_median_value)\n",
    "print(type(flux_corr_mult), flux_corr_mult)\n",
    "print(type(flux_corr_add), flux_corr_add)"
   ]
  },
  {
   "cell_type": "code",
   "execution_count": 21,
   "metadata": {},
   "outputs": [
    {
     "name": "stdout",
     "output_type": "stream",
     "text": [
      "['ufloat', 'ufloat_fromstr', 'nominal_value', 'std_dev', 'covariance_matrix', 'UFloat', 'wrap', 'correlated_values', 'correlated_values_norm', 'correlation_matrix']\n"
     ]
    }
   ],
   "source": [
    "import uncertainties\n",
    "import numpy as np\n",
    "\n",
    "print(uncertainties.core.__all__)"
   ]
  },
  {
   "cell_type": "code",
   "execution_count": null,
   "metadata": {},
   "outputs": [],
   "source": []
  }
 ],
 "metadata": {
  "kernelspec": {
   "display_name": "vast-post-processing-SFvl3Fo4-py3.9",
   "language": "python",
   "name": "python3"
  },
  "language_info": {
   "codemirror_mode": {
    "name": "ipython",
    "version": 3
   },
   "file_extension": ".py",
   "mimetype": "text/x-python",
   "name": "python",
   "nbconvert_exporter": "python",
   "pygments_lexer": "ipython3",
   "version": "3.9.13"
  },
  "orig_nbformat": 4
 },
 "nbformat": 4,
 "nbformat_minor": 2
}
