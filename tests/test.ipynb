{
 "cells": [
  {
   "cell_type": "code",
   "execution_count": 1,
   "metadata": {},
   "outputs": [],
   "source": [
    "import warnings\n",
    "from pathlib import Path\n",
    "from loguru import logger\n",
    "from datetime import datetime\n",
    "from typing import Optional, Union\n",
    "from itertools import chain\n",
    "\n",
    "from astropy.io import fits\n",
    "from astropy.io import votable\n",
    "from astropy.io.votable import tree\n",
    "\n",
    "import astropy.wcs as wcs\n",
    "from astropy.coordinates import SkyCoord\n",
    "\n",
    "import astropy.units as u\n",
    "from astropy.nddata.utils import Cutout2D\n",
    "from astropy.time import Time\n",
    "from mocpy import MOC, STMOC\n",
    "\n",
    "from vast_post_processing import crop, corrections\n",
    "\n",
    "DATA_PATH = (Path(\".\") / \"test-data\" / \"TILES\").resolve()\n",
    "IMAGE_PATH = (\n",
    "    DATA_PATH\n",
    "    / \"STOKESI_IMAGES\"\n",
    "    / \"epoch_38\"\n",
    "    / \"image.i.VAST_0334-37.SB50801.cont.taylor.0.restored.conv.fits\"\n",
    ")\n",
    "VOTABLE_PATH = (\n",
    "    DATA_PATH\n",
    "    / \"STOKESI_SELAVY\"\n",
    "    / \"epoch_38\"\n",
    "    / \"selavy-image.i.VAST_0334-37.SB50801.cont.taylor.0.restored.conv.components.xml\"\n",
    ")"
   ]
  },
  {
   "cell_type": "code",
   "execution_count": 4,
   "metadata": {},
   "outputs": [
    {
     "name": "stderr",
     "output_type": "stream",
     "text": [
      "2023-08-23 14:14:23.330 | DEBUG    | vast_post_processing.crop:get_field_centre:28 - Finding field centre\n",
      "2023-08-23 14:14:23.338 | DEBUG    | vast_post_processing.crop:get_field_centre:35 - <SkyCoord (FK5: equinox=2000.0): (ra, dec) in deg\n",
      "    (53.61702083, -37.63907778)>\n",
      "2023-08-23 14:14:23.340 | DEBUG    | vast_post_processing.crop:crop_hdu:49 - Cropping HDU\n",
      "2023-08-23 14:14:23.826 | DEBUG    | vast_post_processing.crop:crop_catalogue:72 - Cropping catalogue\n"
     ]
    }
   ],
   "source": [
    "hdu = fits.open(IMAGE_PATH)[0]\n",
    "field_centre = crop.get_field_centre(hdu.header)\n",
    "cropped_hdu = crop.crop_hdu(hdu, field_centre)\n",
    "vot = votable.parse(VOTABLE_PATH)\n",
    "cropped_table = crop.crop_catalogue(vot, cropped_hdu)\n",
    "# moc = crop.wcs_to_moc(cropped_hdu)\n",
    "# stmoc = crop.moc_to_stmoc(moc, hdu)"
   ]
  },
  {
   "cell_type": "code",
   "execution_count": 21,
   "metadata": {},
   "outputs": [],
   "source": [
    "from astropy.io.votable import parse\n",
    "from astropy.io.votable.tree import Table\n",
    "\n",
    "catalog_path = DATA_PATH / \"STOKESI_SELAVY\" / \"epoch_38\" / \"test_catalog.xml\"\n",
    "votablefile = parse(catalog_path)\n",
    "votable: Table = votablefile.get_first_table()"
   ]
  },
  {
   "cell_type": "code",
   "execution_count": 22,
   "metadata": {},
   "outputs": [
    {
     "name": "stderr",
     "output_type": "stream",
     "text": [
      "2023-08-23 14:34:17.852 | DEBUG    | vast_post_processing.corrections:shift_and_scale_catalog:301 - Correcting /home/hansen/projects/vast/projects/vast-post-processing/tests/test-data/TILES/STOKESI_SELAVY/epoch_38/test_catalog.xml ...\n"
     ]
    },
    {
     "name": "stdout",
     "output_type": "stream",
     "text": [
      "=========\n",
      "ra_offset 0.0\n",
      "dec_offset 0.0\n",
      "flux_scl 1.0\n",
      "flux_offset 0.0\n"
     ]
    }
   ],
   "source": [
    "for param in votablefile.params:\n",
    "    print(param.name, param.value)\n",
    "\n",
    "print(\"=========\")\n",
    "votablefile = corrections.shift_and_scale_catalog(catalog_path)\n",
    "for param in votablefile.params:\n",
    "    print(param.name, param.value)"
   ]
  },
  {
   "cell_type": "code",
   "execution_count": null,
   "metadata": {},
   "outputs": [],
   "source": []
  }
 ],
 "metadata": {
  "kernelspec": {
   "display_name": "vast-post-processing-SFvl3Fo4-py3.9",
   "language": "python",
   "name": "python3"
  },
  "language_info": {
   "codemirror_mode": {
    "name": "ipython",
    "version": 3
   },
   "file_extension": ".py",
   "mimetype": "text/x-python",
   "name": "python",
   "nbconvert_exporter": "python",
   "pygments_lexer": "ipython3",
   "version": "3.9.13"
  },
  "orig_nbformat": 4
 },
 "nbformat": 4,
 "nbformat_minor": 2
}
