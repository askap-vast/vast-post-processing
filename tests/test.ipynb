{
 "cells": [
  {
   "cell_type": "code",
   "execution_count": 21,
   "metadata": {},
   "outputs": [],
   "source": [
    "import warnings\n",
    "from pathlib import Path\n",
    "from loguru import logger\n",
    "from datetime import datetime\n",
    "from typing import Optional, Union\n",
    "from itertools import chain\n",
    "\n",
    "from astropy.io import fits\n",
    "from astropy.io import votable\n",
    "from astropy.io.votable import tree\n",
    "\n",
    "import astropy.wcs as wcs\n",
    "from astropy.coordinates import SkyCoord\n",
    "\n",
    "import astropy.units as u\n",
    "from astropy.nddata.utils import Cutout2D\n",
    "from astropy.time import Time\n",
    "from mocpy import MOC, STMOC\n",
    "\n",
    "from vast_post_processing import crop\n",
    "\n",
    "DATA_PATH = (Path(\".\") / \"test-data\" / \"TILES\").resolve()\n",
    "IMAGE_PATH = (\n",
    "    DATA_PATH\n",
    "    / \"STOKESI_IMAGES\"\n",
    "    / \"epoch_38\"\n",
    "    / \"image.i.VAST_0334-37.SB50801.cont.taylor.0.restored.conv.fits\"\n",
    ")\n",
    "VOTABLE_PATH = (\n",
    "    DATA_PATH\n",
    "    / \"STOKESI_SELAVY\"\n",
    "    / \"epoch_38\"\n",
    "    / \"selavy-image.i.VAST_0334-37.SB50801.cont.taylor.0.restored.conv.components.xml\"\n",
    ")"
   ]
  },
  {
   "cell_type": "code",
   "execution_count": 22,
   "metadata": {},
   "outputs": [
    {
     "name": "stderr",
     "output_type": "stream",
     "text": [
      "2023-08-22 16:26:10.116 | DEBUG    | vast_post_processing.crop:get_field_centre:28 - Finding field centre\n",
      "2023-08-22 16:26:10.125 | DEBUG    | vast_post_processing.crop:get_field_centre:35 - <SkyCoord (FK5: equinox=2000.0): (ra, dec) in deg\n",
      "    (53.61702083, -37.63907778)>\n",
      "2023-08-22 16:26:10.128 | DEBUG    | vast_post_processing.crop:crop_hdu:49 - Cropping HDU\n",
      "2023-08-22 16:26:10.695 | DEBUG    | vast_post_processing.crop:crop_catalogue:71 - Cropping catalogue\n"
     ]
    }
   ],
   "source": [
    "hdu = fits.open(IMAGE_PATH)[0]\n",
    "field_centre = crop.get_field_centre(hdu.header)\n",
    "cropped_hdu = crop.crop_hdu(hdu, field_centre)\n",
    "vot = votable.parse(VOTABLE_PATH)\n",
    "cropped_table = crop.crop_catalogue(vot, cropped_hdu)"
   ]
  },
  {
   "cell_type": "code",
   "execution_count": 23,
   "metadata": {},
   "outputs": [
    {
     "name": "stderr",
     "output_type": "stream",
     "text": [
      "2023-08-22 16:26:10.740 | DEBUG    | vast_post_processing.crop:wcs_to_moc:86 - Creating MOC\n"
     ]
    },
    {
     "ename": "KeyError",
     "evalue": "\"Keyword 'DATE-BEG' not found.\"",
     "output_type": "error",
     "traceback": [
      "\u001b[0;31m---------------------------------------------------------------------------\u001b[0m",
      "\u001b[0;31mKeyError\u001b[0m                                  Traceback (most recent call last)",
      "\u001b[0;32m/tmp/ipykernel_22007/752092428.py\u001b[0m in \u001b[0;36m<cell line: 2>\u001b[0;34m()\u001b[0m\n\u001b[1;32m      1\u001b[0m \u001b[0mmoc\u001b[0m \u001b[0;34m=\u001b[0m \u001b[0mcrop\u001b[0m\u001b[0;34m.\u001b[0m\u001b[0mwcs_to_moc\u001b[0m\u001b[0;34m(\u001b[0m\u001b[0mcropped_hdu\u001b[0m\u001b[0;34m)\u001b[0m\u001b[0;34m\u001b[0m\u001b[0;34m\u001b[0m\u001b[0m\n\u001b[0;32m----> 2\u001b[0;31m \u001b[0mstmoc\u001b[0m \u001b[0;34m=\u001b[0m \u001b[0mcrop\u001b[0m\u001b[0;34m.\u001b[0m\u001b[0mmoc_to_stmoc\u001b[0m\u001b[0;34m(\u001b[0m\u001b[0mmoc\u001b[0m\u001b[0;34m,\u001b[0m \u001b[0mhdu\u001b[0m\u001b[0;34m)\u001b[0m\u001b[0;34m\u001b[0m\u001b[0;34m\u001b[0m\u001b[0m\n\u001b[0m\u001b[1;32m      3\u001b[0m \u001b[0mprint\u001b[0m\u001b[0;34m(\u001b[0m\u001b[0mstmoc\u001b[0m\u001b[0;34m)\u001b[0m\u001b[0;34m\u001b[0m\u001b[0;34m\u001b[0m\u001b[0m\n",
      "\u001b[0;32m~/projects/vast/projects/vast-post-processing/vast_post_processing/crop.py\u001b[0m in \u001b[0;36mmoc_to_stmoc\u001b[0;34m(moc, hdu)\u001b[0m\n\u001b[1;32m     99\u001b[0m \u001b[0;34m\u001b[0m\u001b[0m\n\u001b[1;32m    100\u001b[0m \u001b[0;32mdef\u001b[0m \u001b[0mmoc_to_stmoc\u001b[0m\u001b[0;34m(\u001b[0m\u001b[0mmoc\u001b[0m\u001b[0;34m,\u001b[0m \u001b[0mhdu\u001b[0m\u001b[0;34m)\u001b[0m\u001b[0;34m:\u001b[0m\u001b[0;34m\u001b[0m\u001b[0;34m\u001b[0m\u001b[0m\n\u001b[0;32m--> 101\u001b[0;31m     \u001b[0mstart\u001b[0m \u001b[0;34m=\u001b[0m \u001b[0mTime\u001b[0m\u001b[0;34m(\u001b[0m\u001b[0;34m[\u001b[0m\u001b[0mhdu\u001b[0m\u001b[0;34m.\u001b[0m\u001b[0mheader\u001b[0m\u001b[0;34m[\u001b[0m\u001b[0;34m\"DATE-BEG\"\u001b[0m\u001b[0;34m]\u001b[0m\u001b[0;34m]\u001b[0m\u001b[0;34m)\u001b[0m\u001b[0;34m\u001b[0m\u001b[0;34m\u001b[0m\u001b[0m\n\u001b[0m\u001b[1;32m    102\u001b[0m     \u001b[0mend\u001b[0m \u001b[0;34m=\u001b[0m \u001b[0mTime\u001b[0m\u001b[0;34m(\u001b[0m\u001b[0;34m[\u001b[0m\u001b[0mhdu\u001b[0m\u001b[0;34m.\u001b[0m\u001b[0mheader\u001b[0m\u001b[0;34m[\u001b[0m\u001b[0;34m\"DATE-END\"\u001b[0m\u001b[0;34m]\u001b[0m\u001b[0;34m]\u001b[0m\u001b[0;34m)\u001b[0m\u001b[0;34m\u001b[0m\u001b[0;34m\u001b[0m\u001b[0m\n\u001b[1;32m    103\u001b[0m \u001b[0;34m\u001b[0m\u001b[0m\n",
      "\u001b[0;32m~/.cache/pypoetry/virtualenvs/vast-post-processing-SFvl3Fo4-py3.9/lib/python3.9/site-packages/astropy/io/fits/header.py\u001b[0m in \u001b[0;36m__getitem__\u001b[0;34m(self, key)\u001b[0m\n\u001b[1;32m    168\u001b[0m             \u001b[0mkeyword\u001b[0m \u001b[0;34m=\u001b[0m \u001b[0mkey\u001b[0m\u001b[0;34m\u001b[0m\u001b[0;34m\u001b[0m\u001b[0m\n\u001b[1;32m    169\u001b[0m \u001b[0;34m\u001b[0m\u001b[0m\n\u001b[0;32m--> 170\u001b[0;31m         \u001b[0mcard\u001b[0m \u001b[0;34m=\u001b[0m \u001b[0mself\u001b[0m\u001b[0;34m.\u001b[0m\u001b[0m_cards\u001b[0m\u001b[0;34m[\u001b[0m\u001b[0mself\u001b[0m\u001b[0;34m.\u001b[0m\u001b[0m_cardindex\u001b[0m\u001b[0;34m(\u001b[0m\u001b[0mkey\u001b[0m\u001b[0;34m)\u001b[0m\u001b[0;34m]\u001b[0m\u001b[0;34m\u001b[0m\u001b[0;34m\u001b[0m\u001b[0m\n\u001b[0m\u001b[1;32m    171\u001b[0m \u001b[0;34m\u001b[0m\u001b[0m\n\u001b[1;32m    172\u001b[0m         \u001b[0;32mif\u001b[0m \u001b[0mcard\u001b[0m\u001b[0;34m.\u001b[0m\u001b[0mfield_specifier\u001b[0m \u001b[0;32mis\u001b[0m \u001b[0;32mnot\u001b[0m \u001b[0;32mNone\u001b[0m \u001b[0;32mand\u001b[0m \u001b[0mkeyword\u001b[0m \u001b[0;34m==\u001b[0m \u001b[0mcard\u001b[0m\u001b[0;34m.\u001b[0m\u001b[0mrawkeyword\u001b[0m\u001b[0;34m:\u001b[0m\u001b[0;34m\u001b[0m\u001b[0;34m\u001b[0m\u001b[0m\n",
      "\u001b[0;32m~/.cache/pypoetry/virtualenvs/vast-post-processing-SFvl3Fo4-py3.9/lib/python3.9/site-packages/astropy/io/fits/header.py\u001b[0m in \u001b[0;36m_cardindex\u001b[0;34m(self, key)\u001b[0m\n\u001b[1;32m   1769\u001b[0m \u001b[0;34m\u001b[0m\u001b[0m\n\u001b[1;32m   1770\u001b[0m         \u001b[0;32mif\u001b[0m \u001b[0;32mnot\u001b[0m \u001b[0mindices\u001b[0m\u001b[0;34m:\u001b[0m\u001b[0;34m\u001b[0m\u001b[0;34m\u001b[0m\u001b[0m\n\u001b[0;32m-> 1771\u001b[0;31m             \u001b[0;32mraise\u001b[0m \u001b[0mKeyError\u001b[0m\u001b[0;34m(\u001b[0m\u001b[0;34mf\"Keyword {keyword!r} not found.\"\u001b[0m\u001b[0;34m)\u001b[0m\u001b[0;34m\u001b[0m\u001b[0;34m\u001b[0m\u001b[0m\n\u001b[0m\u001b[1;32m   1772\u001b[0m \u001b[0;34m\u001b[0m\u001b[0m\n\u001b[1;32m   1773\u001b[0m         \u001b[0;32mtry\u001b[0m\u001b[0;34m:\u001b[0m\u001b[0;34m\u001b[0m\u001b[0;34m\u001b[0m\u001b[0m\n",
      "\u001b[0;31mKeyError\u001b[0m: \"Keyword 'DATE-BEG' not found.\""
     ]
    }
   ],
   "source": [
    "moc = crop.wcs_to_moc(cropped_hdu)\n",
    "stmoc = crop.moc_to_stmoc(moc, hdu)\n",
    "print(stmoc)"
   ]
  },
  {
   "cell_type": "code",
   "execution_count": 24,
   "metadata": {},
   "outputs": [
    {
     "name": "stdout",
     "output_type": "stream",
     "text": [
      "SIMPLE\n",
      "BITPIX\n",
      "NAXIS\n",
      "NAXIS1\n",
      "NAXIS2\n",
      "EXTEND\n",
      "BSCALE\n",
      "BZERO\n",
      "BUNIT\n",
      "BTYPE\n",
      "EQUINOX\n",
      "RADESYS\n",
      "LONPOLE\n",
      "LATPOLE\n",
      "PC1_1\n",
      "PC2_1\n",
      "PC3_1\n",
      "PC4_1\n",
      "PC1_2\n",
      "PC2_2\n",
      "PC3_2\n",
      "PC4_2\n",
      "PC1_3\n",
      "PC2_3\n",
      "PC3_3\n",
      "PC4_3\n",
      "PC1_4\n",
      "PC2_4\n",
      "PC3_4\n",
      "PC4_4\n",
      "CTYPE1\n",
      "CRVAL1\n",
      "CDELT1\n",
      "CRPIX1\n",
      "CUNIT1\n",
      "CTYPE2\n",
      "CRVAL2\n",
      "CDELT2\n",
      "CRPIX2\n",
      "CUNIT2\n",
      "CTYPE3\n",
      "CRVAL3\n",
      "CDELT3\n",
      "CRPIX3\n",
      "CUNIT3\n",
      "CTYPE4\n",
      "CRVAL4\n",
      "CDELT4\n",
      "CRPIX4\n",
      "CUNIT4\n",
      "PV2_1\n",
      "PV2_2\n",
      "TELESCOP\n",
      "DATE-OBS\n",
      "TIMESYS\n",
      "OBSGEO-X\n",
      "OBSGEO-Y\n",
      "OBSGEO-Z\n",
      "DATE\n",
      "ORIGIN\n",
      "TELECOP\n",
      "PROJECT\n",
      "SBID\n",
      "DURATION\n",
      "COMMENT\n",
      "COMMENT\n",
      "COMMENT\n",
      "COMMENT\n",
      "COMMENT\n",
      "COMMENT\n",
      "COMMENT\n",
      "BMAJ\n",
      "BMIN\n",
      "BPA\n",
      "FIELD\n",
      "FIELDRA\n",
      "FIELDDEC\n",
      "WCSAXES\n",
      "MJDREF\n",
      "MJD-OBS\n",
      "HISTORY\n",
      "HISTORY\n",
      "HISTORY\n",
      "HISTORY\n",
      "HISTORY\n",
      "HISTORY\n",
      "HISTORY\n",
      "HISTORY\n",
      "HISTORY\n"
     ]
    }
   ],
   "source": [
    "for key in hdu.header:\n",
    "    print(key)"
   ]
  },
  {
   "cell_type": "code",
   "execution_count": null,
   "metadata": {},
   "outputs": [],
   "source": []
  }
 ],
 "metadata": {
  "kernelspec": {
   "display_name": "vast-post-processing-SFvl3Fo4-py3.9",
   "language": "python",
   "name": "python3"
  },
  "language_info": {
   "codemirror_mode": {
    "name": "ipython",
    "version": 3
   },
   "file_extension": ".py",
   "mimetype": "text/x-python",
   "name": "python",
   "nbconvert_exporter": "python",
   "pygments_lexer": "ipython3",
   "version": "3.9.13"
  },
  "orig_nbformat": 4
 },
 "nbformat": 4,
 "nbformat_minor": 2
}
